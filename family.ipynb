{
 "cells": [
  {
   "cell_type": "code",
   "execution_count": 2,
   "id": "2c625517-c558-4b75-9bfb-fc89da764ed2",
   "metadata": {},
   "outputs": [
    {
     "name": "stdout",
     "output_type": "stream",
     "text": [
      "Requirement already satisfied: kanren in c:\\users\\lenovo\\anaconda3\\lib\\site-packages (0.2.3)Note: you may need to restart the kernel to use updated packages.\n",
      "\n",
      "Requirement already satisfied: toolz in c:\\users\\lenovo\\anaconda3\\lib\\site-packages (from kanren) (1.0.0)\n",
      "Requirement already satisfied: multipledispatch in c:\\users\\lenovo\\anaconda3\\lib\\site-packages (from kanren) (0.6.0)\n",
      "Requirement already satisfied: unification in c:\\users\\lenovo\\anaconda3\\lib\\site-packages (from kanren) (0.2.2)\n",
      "Requirement already satisfied: six in c:\\users\\lenovo\\anaconda3\\lib\\site-packages (from multipledispatch->kanren) (1.16.0)\n"
     ]
    }
   ],
   "source": [
    "pip install kanren"
   ]
  },
  {
   "cell_type": "code",
   "execution_count": 3,
   "id": "bb40863a-dea9-4f3e-be30-48d38bf425dd",
   "metadata": {},
   "outputs": [],
   "source": [
    "import collections.abc\n",
    "collections.Iterator = collections.abc.Iterator\n",
    "collections.Hashable = collections.abc.Hashable\n",
    "import json\n",
    "from kanren import Relation, facts, run, conde, var, eq"
   ]
  },
  {
   "cell_type": "code",
   "execution_count": 4,
   "id": "603ad165-e094-41e1-964e-80a175782e29",
   "metadata": {},
   "outputs": [],
   "source": [
    "# Check if 'x' is the parent of 'y'\n",
    "def parent(x, y):\n",
    "    return conde([father(x,y)], [mother(x,y)])\n",
    "\n",
    "# Check if 'x' is the grandparent of 'y'\n",
    "def grandparent(x, y):\n",
    "    temp = var()\n",
    "    return conde((parent(x,temp), parent(temp, y)))\n",
    "\n",
    "# Check for sibling relationship between 'a' and 'b'\n",
    "def sibling(x, y):\n",
    "    temp = var()\n",
    "    return conde((parent(temp, x), parent(temp, y)))\n",
    "\n",
    "# Check if x is y's uncle\n",
    "def uncle(x, y):\n",
    "    temp = var()\n",
    "    return conde((father(temp, x), grandparent(temp, y)))"
   ]
  },
  {
   "cell_type": "code",
   "execution_count": 5,
   "id": "27ede2db-38ca-415b-8edf-1b39302b53cc",
   "metadata": {},
   "outputs": [],
   "source": [
    "# print(\"__name__ : \", __name__)\n",
    "if __name__ == '__main__':\n",
    "    father = Relation() # creating an instance of Relation (instantiating)\n",
    "    mother = Relation()\n",
    "    \n",
    "    with open('relationships.json', 'r') as f:\n",
    "        json_str = f.read() \n",
    "        d = json.loads(json_str)\n",
    "        \n",
    "    for item in d['father']:\n",
    "        father_name = list(item.keys())[0]\n",
    "        child_name = list(item.values())[0]\n",
    "        facts(father, (father_name, child_name))\n",
    "      \n",
    "    for item in d['mother']:\n",
    "        mother_name = list(item.keys())[0]\n",
    "        child_name = list(item.values())[0]\n",
    "        facts(mother, (mother_name, child_name))\n",
    "\n",
    "    x = var()"
   ]
  },
  {
   "cell_type": "code",
   "execution_count": 6,
   "id": "f86bb0b3-bcc4-468b-8e9b-d5ab8b953a80",
   "metadata": {},
   "outputs": [
    {
     "name": "stdout",
     "output_type": "stream",
     "text": [
      "('John', 'William')\n",
      "('John', 'David')\n",
      "('John', 'Adam')\n",
      "('William', 'Chris')\n",
      "('William', 'Stephanie')\n",
      "('David', 'Wayne')\n",
      "('David', 'Tiffany')\n",
      "('David', 'Julie')\n",
      "('David', 'Neil')\n",
      "('David', 'Peter')\n",
      "('Adam', 'Sophia')\n"
     ]
    }
   ],
   "source": [
    "# print(json_str)\n",
    "# print(type(json_str))\n",
    "# type(d)\n",
    "# d\n",
    "# d['mother']\n",
    "for item in d['father']:\n",
    "    father_name = list(item.keys())[0]\n",
    "    child_name = list(item.values())[0]\n",
    "    print((father_name, child_name))\n",
    "    facts(father, (father_name, child_name))\n",
    "#     print(list(item.keys())[0])\n",
    "#     print(list(item.values())[0])\n",
    "#     print(item.keys())"
   ]
  },
  {
   "cell_type": "code",
   "execution_count": 7,
   "id": "2ca6c80c-3809-4b3c-932e-75d119f9658f",
   "metadata": {},
   "outputs": [
    {
     "data": {
      "text/plain": [
       "[{'John': 'William'},\n",
       " {'John': 'David'},\n",
       " {'John': 'Adam'},\n",
       " {'William': 'Chris'},\n",
       " {'William': 'Stephanie'},\n",
       " {'David': 'Wayne'},\n",
       " {'David': 'Tiffany'},\n",
       " {'David': 'Julie'},\n",
       " {'David': 'Neil'},\n",
       " {'David': 'Peter'},\n",
       " {'Adam': 'Sophia'}]"
      ]
     },
     "execution_count": 7,
     "metadata": {},
     "output_type": "execute_result"
    }
   ],
   "source": [
    "d[\"father\"]"
   ]
  },
  {
   "cell_type": "code",
   "execution_count": 8,
   "id": "faf93466-c0d5-4898-b74a-9db64671beef",
   "metadata": {},
   "outputs": [
    {
     "data": {
      "text/plain": [
       "('Megan',)"
      ]
     },
     "execution_count": 8,
     "metadata": {},
     "output_type": "execute_result"
    }
   ],
   "source": [
    "# who is William's mother?\n",
    "run(0, x, mother(x, 'William'))"
   ]
  },
  {
   "cell_type": "code",
   "execution_count": 9,
   "id": "b8483841-1d7d-480c-a5f1-a01b5ffb96a4",
   "metadata": {},
   "outputs": [
    {
     "data": {
      "text/plain": [
       "('Neil', 'Julie', 'Tiffany', 'Peter')"
      ]
     },
     "execution_count": 9,
     "metadata": {},
     "output_type": "execute_result"
    }
   ],
   "source": [
    "run(0, x, mother('Olivia', x))"
   ]
  },
  {
   "cell_type": "code",
   "execution_count": 10,
   "id": "230c8a4d-ea05-416c-a873-3103ed8a5be6",
   "metadata": {},
   "outputs": [
    {
     "data": {
      "text/plain": [
       "('Adam', 'David', 'William')"
      ]
     },
     "execution_count": 10,
     "metadata": {},
     "output_type": "execute_result"
    }
   ],
   "source": [
    "# Who are the children of John\n",
    "run(0, x, father('John', x))"
   ]
  },
  {
   "cell_type": "code",
   "execution_count": 11,
   "id": "8d3c80ab-4c09-4d2a-a33d-14df9a32b7e4",
   "metadata": {},
   "outputs": [
    {
     "data": {
      "text/plain": [
       "[{'Megan': 'William'},\n",
       " {'Megan': 'David'},\n",
       " {'Megan': 'Adam'},\n",
       " {'Emma': 'Stephanie'},\n",
       " {'Emma': 'Chris'},\n",
       " {'Olivia': 'Tiffany'},\n",
       " {'Olivia': 'Julie'},\n",
       " {'Olivia': 'Neil'},\n",
       " {'Olivia': 'Peter'},\n",
       " {'Lily': 'Sophia'}]"
      ]
     },
     "execution_count": 11,
     "metadata": {},
     "output_type": "execute_result"
    }
   ],
   "source": [
    "d[\"mother\"]"
   ]
  },
  {
   "cell_type": "code",
   "execution_count": 12,
   "id": "53edec35-da0a-447e-a870-6fc8a5ba6534",
   "metadata": {},
   "outputs": [
    {
     "data": {
      "text/plain": [
       "('Adam', 'David', 'William')"
      ]
     },
     "execution_count": 12,
     "metadata": {},
     "output_type": "execute_result"
    }
   ],
   "source": [
    "# John's children\n",
    "name = 'John'\n",
    "output = run(0, x, father(name, x))\n",
    "output\n",
    "# print(f\"\\nList of {name}'s children:\")\n",
    "# for item in output:\n",
    "#     print(item)"
   ]
  },
  {
   "cell_type": "code",
   "execution_count": 13,
   "id": "abd23a67-369d-43d2-97ae-46a1f596759f",
   "metadata": {},
   "outputs": [
    {
     "name": "stdout",
     "output_type": "stream",
     "text": [
      "\n",
      " William's mother:\n",
      " ('Megan',)\n"
     ]
    }
   ],
   "source": [
    "# William's mother\n",
    "name = 'William'\n",
    "output = run(0, x, mother(x, name))\n",
    "print(f\"\\n {name}'s mother:\\n {output}\")"
   ]
  },
  {
   "cell_type": "code",
   "execution_count": 14,
   "id": "a93fd18a-318b-479f-8317-c38b9dbbd1b2",
   "metadata": {},
   "outputs": [
    {
     "data": {
      "text/plain": [
       "('John', 'Megan')"
      ]
     },
     "execution_count": 14,
     "metadata": {},
     "output_type": "execute_result"
    }
   ],
   "source": [
    "# Adam's parents\n",
    "name = 'Adam'\n",
    "output = run(0, x, parent(x, name))\n",
    "output"
   ]
  },
  {
   "cell_type": "code",
   "execution_count": 15,
   "id": "d902d455-b315-4d66-b1e4-9ab3df8a0c8b",
   "metadata": {},
   "outputs": [
    {
     "data": {
      "text/plain": [
       "('Megan', 'John')"
      ]
     },
     "execution_count": 15,
     "metadata": {},
     "output_type": "execute_result"
    }
   ],
   "source": [
    "# Wayne's grandparents\n",
    "name = 'Wayne'\n",
    "output = run(0, x, grandparent(x, name))\n",
    "output"
   ]
  },
  {
   "cell_type": "code",
   "execution_count": 16,
   "id": "a58438ae-a47b-4a47-bf62-00f04096ba05",
   "metadata": {},
   "outputs": [
    {
     "data": {
      "text/plain": [
       "('Sophia', 'Tiffany', 'Stephanie', 'Neil', 'Chris', 'Peter', 'Wayne', 'Julie')"
      ]
     },
     "execution_count": 16,
     "metadata": {},
     "output_type": "execute_result"
    }
   ],
   "source": [
    "# Megan's grandchildren\n",
    "name = 'Megan'\n",
    "output = run(0, x, grandparent(name, x))\n",
    "output"
   ]
  },
  {
   "cell_type": "code",
   "execution_count": 17,
   "id": "b5625e48-62b3-4b6b-b2cf-c2062aa9259a",
   "metadata": {},
   "outputs": [
    {
     "data": {
      "text/plain": [
       "['Adam', 'William']"
      ]
     },
     "execution_count": 17,
     "metadata": {},
     "output_type": "execute_result"
    }
   ],
   "source": [
    "# David's siblings\n",
    "name = 'David'\n",
    "output = run(0, x, sibling(x, name))\n",
    "output\n",
    "[sib for sib in output if sib != name]"
   ]
  },
  {
   "cell_type": "code",
   "execution_count": 18,
   "id": "7dada86e-1b1f-4a10-920b-a68c8deeb4f8",
   "metadata": {},
   "outputs": [
    {
     "name": "stdout",
     "output_type": "stream",
     "text": [
      "David\n"
     ]
    },
    {
     "data": {
      "text/plain": [
       "['Adam', 'William']"
      ]
     },
     "execution_count": 18,
     "metadata": {},
     "output_type": "execute_result"
    }
   ],
   "source": [
    "# Tiffany's uncles\n",
    "name = 'Tiffany'\n",
    "output = run(0, x, uncle(x, name))\n",
    "father_name = run(1, x, father(x, name))\n",
    "print(father_name[0])\n",
    "[n for n in output if n!=father_name[0]]"
   ]
  },
  {
   "cell_type": "code",
   "execution_count": 19,
   "id": "e8990bee-403f-4aca-bf31-9dda507b514e",
   "metadata": {},
   "outputs": [
    {
     "data": {
      "text/plain": [
       "(('David', 'Olivia'), ('William', 'Emma'), ('John', 'Megan'), ('Adam', 'Lily'))"
      ]
     },
     "execution_count": 19,
     "metadata": {},
     "output_type": "execute_result"
    }
   ],
   "source": [
    "# all spouses\n",
    "a, b, c = var(), var(), var()\n",
    "output = run(0, (a, b), father(a, c), mother(b, c))\n",
    "output"
   ]
  },
  {
   "cell_type": "code",
   "execution_count": 20,
   "id": "e3b6ab47-0a7c-496c-a7de-225843784029",
   "metadata": {},
   "outputs": [
    {
     "data": {
      "text/plain": [
       "('Neil', 'Julie', 'Tiffany', 'Peter')"
      ]
     },
     "execution_count": 20,
     "metadata": {},
     "output_type": "execute_result"
    }
   ],
   "source": [
    "run(0, x, mother('Olivia', x))"
   ]
  },
  {
   "cell_type": "code",
   "execution_count": 21,
   "id": "164b9f26-f70c-45f4-85c1-15077bb04ad5",
   "metadata": {},
   "outputs": [
    {
     "data": {
      "text/plain": [
       "('John', 'Megan')"
      ]
     },
     "execution_count": 21,
     "metadata": {},
     "output_type": "execute_result"
    }
   ],
   "source": [
    "# who are the parents of Adam\n",
    "run(0, x, parent(x, 'Adam'))"
   ]
  },
  {
   "cell_type": "code",
   "execution_count": 22,
   "id": "916c7fc7-16bb-479d-b728-d13b9af420bb",
   "metadata": {},
   "outputs": [
    {
     "data": {
      "text/plain": [
       "('Adam', 'David', 'William')"
      ]
     },
     "execution_count": 22,
     "metadata": {},
     "output_type": "execute_result"
    }
   ],
   "source": [
    "# Who are David's siblings\n",
    "run(0, x, sibling(x, 'David'))"
   ]
  },
  {
   "cell_type": "code",
   "execution_count": 23,
   "id": "9e2cc01f-3047-45ed-b215-963f24d5be57",
   "metadata": {},
   "outputs": [
    {
     "data": {
      "text/plain": [
       "('Adam', 'David', 'William')"
      ]
     },
     "execution_count": 23,
     "metadata": {},
     "output_type": "execute_result"
    }
   ],
   "source": [
    "name = \"David\"\n",
    "result = run(0, x, sibling(name, x))\n",
    "result"
   ]
  },
  {
   "cell_type": "code",
   "execution_count": 24,
   "id": "6b8753f9-a428-45f4-aa2a-69710963428b",
   "metadata": {},
   "outputs": [
    {
     "data": {
      "text/plain": [
       "['Adam', 'William']"
      ]
     },
     "execution_count": 24,
     "metadata": {},
     "output_type": "execute_result"
    }
   ],
   "source": [
    "[n for n in result if n!=name]"
   ]
  },
  {
   "cell_type": "code",
   "execution_count": 25,
   "id": "117e5dfb-3990-42b4-b1bb-962e906a0c48",
   "metadata": {},
   "outputs": [
    {
     "data": {
      "text/plain": [
       "('David',)"
      ]
     },
     "execution_count": 25,
     "metadata": {},
     "output_type": "execute_result"
    }
   ],
   "source": [
    "# who is the father of Tiffany?\n",
    "run(0, x, father(x, 'Tiffany'))"
   ]
  },
  {
   "cell_type": "code",
   "execution_count": 26,
   "id": "1782f538-891f-43a9-8d3d-3f31c48ed2da",
   "metadata": {},
   "outputs": [
    {
     "data": {
      "text/plain": [
       "('Olivia',)"
      ]
     },
     "execution_count": 26,
     "metadata": {},
     "output_type": "execute_result"
    }
   ],
   "source": [
    "# who is the mother of Tiffany?\n",
    "run(0, x, mother(x, 'Tiffany'))"
   ]
  },
  {
   "cell_type": "code",
   "execution_count": 27,
   "id": "d8500d11-b757-43cf-b353-4f4372d20f86",
   "metadata": {},
   "outputs": [
    {
     "data": {
      "text/plain": [
       "('David', 'Olivia')"
      ]
     },
     "execution_count": 27,
     "metadata": {},
     "output_type": "execute_result"
    }
   ],
   "source": [
    "# who are the parents of Tiffany?\n",
    "run(0, x, parent(x, 'Tiffany'))"
   ]
  },
  {
   "cell_type": "code",
   "execution_count": 28,
   "id": "6b41fc02-8a89-48a7-8934-fb27cc43592f",
   "metadata": {},
   "outputs": [
    {
     "data": {
      "text/plain": [
       "('Megan', 'John')"
      ]
     },
     "execution_count": 28,
     "metadata": {},
     "output_type": "execute_result"
    }
   ],
   "source": [
    "# who are the grandparents of Tiffany?\n",
    "run(0, x, grandparent(x, 'Tiffany'))"
   ]
  },
  {
   "cell_type": "code",
   "execution_count": 29,
   "id": "d50cb4c1-ded0-45b2-99db-d1d3a66c41e3",
   "metadata": {},
   "outputs": [
    {
     "data": {
      "text/plain": [
       "('Sophia', 'Tiffany', 'Stephanie', 'Neil', 'Chris', 'Peter', 'Wayne', 'Julie')"
      ]
     },
     "execution_count": 29,
     "metadata": {},
     "output_type": "execute_result"
    }
   ],
   "source": [
    "# who are the grandchildren of John?\n",
    "run(0, x, grandparent('John', x))"
   ]
  },
  {
   "cell_type": "code",
   "execution_count": 30,
   "id": "28987c7d-04df-4496-a9b0-6d087e6b59a4",
   "metadata": {},
   "outputs": [
    {
     "data": {
      "text/plain": [
       "('Adam', 'David', 'William')"
      ]
     },
     "execution_count": 30,
     "metadata": {},
     "output_type": "execute_result"
    }
   ],
   "source": [
    "# who are Julie's children?\n",
    "run(0, x, mother('Megan', x))"
   ]
  },
  {
   "cell_type": "code",
   "execution_count": 31,
   "id": "0466fe24-664e-4063-8a9c-44e171f9ffc7",
   "metadata": {},
   "outputs": [
    {
     "data": {
      "text/plain": [
       "['Adam', 'David']"
      ]
     },
     "execution_count": 31,
     "metadata": {},
     "output_type": "execute_result"
    }
   ],
   "source": [
    "# who are David's siblings?\n",
    "name = 'William'\n",
    "result = run(0, x, sibling(x, name))\n",
    "\n",
    "[n for n in result if n!=name]"
   ]
  },
  {
   "cell_type": "code",
   "execution_count": 32,
   "id": "1e4e31df-7d39-49a1-8b30-02245c5c01ea",
   "metadata": {},
   "outputs": [
    {
     "data": {
      "text/plain": [
       "(('David', 'Olivia'), ('William', 'Emma'), ('John', 'Megan'), ('Adam', 'Lily'))"
      ]
     },
     "execution_count": 32,
     "metadata": {},
     "output_type": "execute_result"
    }
   ],
   "source": [
    "# all spouses (husband - wife)\n",
    "a, b, c = var(), var(), var()\n",
    "run(0,(a, b), father(a, c), mother(b, c))"
   ]
  },
  {
   "cell_type": "code",
   "execution_count": null,
   "id": "6884dcbf-578f-410b-9f31-4872a9077712",
   "metadata": {},
   "outputs": [],
   "source": []
  }
 ],
 "metadata": {
  "kernelspec": {
   "display_name": "Python 3 (ipykernel)",
   "language": "python",
   "name": "python3"
  },
  "language_info": {
   "codemirror_mode": {
    "name": "ipython",
    "version": 3
   },
   "file_extension": ".py",
   "mimetype": "text/x-python",
   "name": "python",
   "nbconvert_exporter": "python",
   "pygments_lexer": "ipython3",
   "version": "3.11.11"
  }
 },
 "nbformat": 4,
 "nbformat_minor": 5
}
