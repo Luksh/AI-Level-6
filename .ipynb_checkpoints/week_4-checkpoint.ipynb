{
 "cells": [
  {
   "cell_type": "code",
   "execution_count": 1,
   "id": "4c43fc10-6c80-499d-9e12-b3fab1a34a05",
   "metadata": {},
   "outputs": [
    {
     "name": "stdout",
     "output_type": "stream",
     "text": [
      "Minimum number of coins required: 5\n",
      "Coins used: [50, 20, 20, 2, 1]\n"
     ]
    }
   ],
   "source": [
    "def coin_change(coins, amount):\n",
    "    coins.sort(reverse = True) # Sort the coins in descending order\n",
    "    coin_count = 0 # Variable to keep track of the total number of coins used\n",
    "    change = [] # List to store the coins used\n",
    "    \n",
    "    for coin in coins:\n",
    "        while amount >= coin:\n",
    "            amount -= coin\n",
    "            coin_count += 1\n",
    "            change.append(coin)\n",
    "            \n",
    "    if amount == 0:\n",
    "        print(f\"Minimum number of coins required: {coin_count}\")\n",
    "        print(\"Coins used:\", change)\n",
    "    else:\n",
    "        print(\"Not possible to get the desired change with the coins.\")\n",
    "        \n",
    "coins = [1, 2, 5, 10, 20, 50, 100, 200] # List of available coins\n",
    "amount = 93 # Amount for which we need to find the minimum number of coins\n",
    "coin_change(coins, amount)"
   ]
  },
  {
   "cell_type": "code",
   "execution_count": 2,
   "id": "4ea2d500-512e-4cf5-806e-343ae698cabe",
   "metadata": {},
   "outputs": [],
   "source": [
    "import heapq\n",
    "import matplotlib.pyplot as plt\n",
    "import networkx as nx\n",
    "\n",
    "# Class representing a node in the graph\n",
    "\n",
    "class Node:\n",
    "    def __init__(self, name, heuristic_cost):\n",
    "        self.name = name\n",
    "        self.heuristic_cost = heuristic_cost\n",
    "        self.adjacent = {}\n",
    "        self.parent = None\n",
    "        self.g_cost = float(\"inf\")\n",
    "        \n",
    "    def add_neighbor(self, neighbor, cost):\n",
    "        self.adjacent[neighbor] = cost\n",
    "        \n",
    "    def __lt__(self, other):\n",
    "        return self.g_cost + self.heuristic_cost < other.g_cost + other.heuristic_cost\n",
    "\n",
    "# A* search algorithm\n",
    "\n",
    "def astar_search(start, goal):\n",
    "    open_list = []\n",
    "    closed_set = set()\n",
    "    start.g_cost = 0\n",
    "    heapq.heappush(open_list, start)\n",
    "    \n",
    "    while open_list:\n",
    "        current_node = heapq.heappop(open_list)\n",
    "        if current_node == goal:\n",
    "            path = []\n",
    "            while current_node is not None:\n",
    "                path.append(current_node.name)\n",
    "                current_node = current_node.parent\n",
    "                \n",
    "                return path[::-1]\n",
    "                \n",
    "        closed_set.add(current_node)\n",
    "        \n",
    "        for neighbor, cost in current_node.adjacent.items():\n",
    "            tentative_g_cost = current_node.g_cost + cost\n",
    "            if neighbor in closed_set and tentative_g_cost >= neighbor.g_cost:\n",
    "                continue\n",
    "            if tentative_g_cost < neighbor.g_cost or neighbor not in open_list:\n",
    "                neighbor.g_cost = tentative_g_cost\n",
    "                neighbor.parent = current_node\n",
    "                if neighbor not in open_list:\n",
    "                    heapq.heappush(open_list, neighbor)\n",
    "    \n",
    "    return None"
   ]
  },
  {
   "cell_type": "code",
   "execution_count": 3,
   "id": "51ece887-40aa-4a3b-82f3-d01ad5d4c39b",
   "metadata": {},
   "outputs": [
    {
     "name": "stdout",
     "output_type": "stream",
     "text": [
      "Requirement already satisfied: black[jupyter] in c:\\users\\lenovo\\anaconda3\\lib\\site-packages (24.10.0)\n",
      "Requirement already satisfied: click>=8.0.0 in c:\\users\\lenovo\\anaconda3\\lib\\site-packages (from black[jupyter]) (8.1.7)\n",
      "Requirement already satisfied: mypy-extensions>=0.4.3 in c:\\users\\lenovo\\anaconda3\\lib\\site-packages (from black[jupyter]) (1.0.0)\n",
      "Requirement already satisfied: packaging>=22.0 in c:\\users\\lenovo\\anaconda3\\lib\\site-packages (from black[jupyter]) (24.2)\n",
      "Requirement already satisfied: pathspec>=0.9.0 in c:\\users\\lenovo\\anaconda3\\lib\\site-packages (from black[jupyter]) (0.10.3)\n",
      "Requirement already satisfied: platformdirs>=2 in c:\\users\\lenovo\\anaconda3\\lib\\site-packages (from black[jupyter]) (3.10.0)\n",
      "Requirement already satisfied: ipython>=7.8.0 in c:\\users\\lenovo\\anaconda3\\lib\\site-packages (from black[jupyter]) (8.30.0)\n",
      "Collecting tokenize-rt>=3.2.0 (from black[jupyter])\n",
      "  Downloading tokenize_rt-6.1.0-py2.py3-none-any.whl.metadata (4.1 kB)\n",
      "Requirement already satisfied: colorama in c:\\users\\lenovo\\anaconda3\\lib\\site-packages (from click>=8.0.0->black[jupyter]) (0.4.6)\n",
      "Requirement already satisfied: decorator in c:\\users\\lenovo\\anaconda3\\lib\\site-packages (from ipython>=7.8.0->black[jupyter]) (5.1.1)\n",
      "Requirement already satisfied: jedi>=0.16 in c:\\users\\lenovo\\anaconda3\\lib\\site-packages (from ipython>=7.8.0->black[jupyter]) (0.19.2)\n",
      "Requirement already satisfied: matplotlib-inline in c:\\users\\lenovo\\anaconda3\\lib\\site-packages (from ipython>=7.8.0->black[jupyter]) (0.1.6)\n",
      "Requirement already satisfied: prompt-toolkit<3.1.0,>=3.0.41 in c:\\users\\lenovo\\anaconda3\\lib\\site-packages (from ipython>=7.8.0->black[jupyter]) (3.0.43)\n",
      "Requirement already satisfied: pygments>=2.4.0 in c:\\users\\lenovo\\anaconda3\\lib\\site-packages (from ipython>=7.8.0->black[jupyter]) (2.15.1)\n",
      "Requirement already satisfied: stack-data in c:\\users\\lenovo\\anaconda3\\lib\\site-packages (from ipython>=7.8.0->black[jupyter]) (0.2.0)\n",
      "Requirement already satisfied: traitlets>=5.13.0 in c:\\users\\lenovo\\anaconda3\\lib\\site-packages (from ipython>=7.8.0->black[jupyter]) (5.14.3)\n",
      "Requirement already satisfied: typing-extensions>=4.6 in c:\\users\\lenovo\\anaconda3\\lib\\site-packages (from ipython>=7.8.0->black[jupyter]) (4.12.2)\n",
      "Requirement already satisfied: parso<0.9.0,>=0.8.4 in c:\\users\\lenovo\\anaconda3\\lib\\site-packages (from jedi>=0.16->ipython>=7.8.0->black[jupyter]) (0.8.4)\n",
      "Requirement already satisfied: wcwidth in c:\\users\\lenovo\\anaconda3\\lib\\site-packages (from prompt-toolkit<3.1.0,>=3.0.41->ipython>=7.8.0->black[jupyter]) (0.2.5)\n",
      "Requirement already satisfied: executing in c:\\users\\lenovo\\anaconda3\\lib\\site-packages (from stack-data->ipython>=7.8.0->black[jupyter]) (0.8.3)\n",
      "Requirement already satisfied: asttokens in c:\\users\\lenovo\\anaconda3\\lib\\site-packages (from stack-data->ipython>=7.8.0->black[jupyter]) (2.0.5)\n",
      "Requirement already satisfied: pure-eval in c:\\users\\lenovo\\anaconda3\\lib\\site-packages (from stack-data->ipython>=7.8.0->black[jupyter]) (0.2.2)\n",
      "Requirement already satisfied: six in c:\\users\\lenovo\\anaconda3\\lib\\site-packages (from asttokens->stack-data->ipython>=7.8.0->black[jupyter]) (1.16.0)\n",
      "Downloading tokenize_rt-6.1.0-py2.py3-none-any.whl (6.0 kB)\n",
      "Installing collected packages: tokenize-rt\n",
      "Successfully installed tokenize-rt-6.1.0\n",
      "Note: you may need to restart the kernel to use updated packages.\n"
     ]
    }
   ],
   "source": [
    "pip install \"black[jupyter]\""
   ]
  },
  {
   "cell_type": "code",
   "execution_count": null,
   "id": "749049a7-4e31-4d2e-992d-6b40aacfa639",
   "metadata": {},
   "outputs": [],
   "source": []
  }
 ],
 "metadata": {
  "kernelspec": {
   "display_name": "Python 3 (ipykernel)",
   "language": "python",
   "name": "python3"
  },
  "language_info": {
   "codemirror_mode": {
    "name": "ipython",
    "version": 3
   },
   "file_extension": ".py",
   "mimetype": "text/x-python",
   "name": "python",
   "nbconvert_exporter": "python",
   "pygments_lexer": "ipython3",
   "version": "3.11.11"
  }
 },
 "nbformat": 4,
 "nbformat_minor": 5
}
