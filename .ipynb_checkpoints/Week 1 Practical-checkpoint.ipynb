{
 "cells": [
  {
   "cell_type": "code",
   "execution_count": 13,
   "id": "liable-annual",
   "metadata": {},
   "outputs": [
    {
     "data": {
      "text/plain": [
       "0.24999667668640035"
      ]
     },
     "execution_count": 13,
     "metadata": {},
     "output_type": "execute_result"
    }
   ],
   "source": [
    "import random\n",
    "# random.seed(10)\n",
    "random.random()"
   ]
  },
  {
   "cell_type": "code",
   "execution_count": 17,
   "id": "prerequisite-turtle",
   "metadata": {},
   "outputs": [
    {
     "name": "stdout",
     "output_type": "stream",
     "text": [
      "word:cat\n"
     ]
    }
   ],
   "source": [
    "import re\n",
    "str1 = 'an example word:cat !!'\n",
    "match = re.search(r'word:\\w\\w\\w', str1)\n",
    "\n",
    "if match:\n",
    "    print(match.group())\n",
    "else:\n",
    "    print(\"not found\")                  "
   ]
  },
  {
   "cell_type": "code",
   "execution_count": 19,
   "id": "animated-ocean",
   "metadata": {},
   "outputs": [
    {
     "data": {
      "text/plain": [
       "'iii'"
      ]
     },
     "execution_count": 19,
     "metadata": {},
     "output_type": "execute_result"
    }
   ],
   "source": [
    "match = re.search(r'iii', 'piiig')\n",
    "match.group()"
   ]
  },
  {
   "cell_type": "markdown",
   "id": "8e5de43b",
   "metadata": {},
   "source": [
    "Zip"
   ]
  },
  {
   "cell_type": "code",
   "execution_count": 34,
   "id": "sharp-recruitment",
   "metadata": {},
   "outputs": [
    {
     "name": "stdout",
     "output_type": "stream",
     "text": [
      "[(1, 4), (2, 5), (3, 6)]\n"
     ]
    }
   ],
   "source": [
    "x = [1, 2, 3]\n",
    "y = [4, 5, 6]\n",
    "\n",
    "zipped = list(zip(x, y))\n",
    "print(zipped)"
   ]
  },
  {
   "cell_type": "code",
   "execution_count": 35,
   "id": "23ea07ec",
   "metadata": {},
   "outputs": [
    {
     "data": {
      "text/plain": [
       "((1, 2, 3), (4, 5, 6))"
      ]
     },
     "execution_count": 35,
     "metadata": {},
     "output_type": "execute_result"
    }
   ],
   "source": [
    "x2, y2 = zip(*zipped)\n",
    "x2, y2"
   ]
  },
  {
   "cell_type": "code",
   "execution_count": 33,
   "id": "718b7a58",
   "metadata": {},
   "outputs": [
    {
     "name": "stdout",
     "output_type": "stream",
     "text": [
      "Fruits: ('Apple', 'Banana', 'Orange')\n",
      "Quantities: (10, 20, 30)\n"
     ]
    }
   ],
   "source": [
    "a = [('Apple', 10), ('Banana', 20), ('Orange', 30)]\n",
    "\n",
    "fruits, quantities = zip(*a)\n",
    "\n",
    "print(f\"Fruits: {fruits}\")\n",
    "print(f\"Quantities: {quantities}\")"
   ]
  },
  {
   "cell_type": "markdown",
   "id": "5b68d3e0",
   "metadata": {},
   "source": [
    "Object Oriented Programming"
   ]
  },
  {
   "cell_type": "code",
   "execution_count": 44,
   "id": "0a482789",
   "metadata": {},
   "outputs": [
    {
     "name": "stdout",
     "output_type": "stream",
     "text": [
      "Name: Zara; Salary: 2000\n",
      "Total number of employees: 2\n",
      "2\n"
     ]
    }
   ],
   "source": [
    "class Employee:\n",
    "    emp_count = 0 # class variable\n",
    "    def __init__(self, name, salary):\n",
    "        self.name = name\n",
    "        self.salary = salary\n",
    "        Employee.emp_count += 1\n",
    "        \n",
    "    def display_count(self):\n",
    "        return Employee.emp_count\n",
    "    \n",
    "    def __str__(self):\n",
    "        return f\"Name: {self.name}; Salary: {self.salary}\"\n",
    "    \n",
    "emp1 = Employee(\"Zara\", 2000)\n",
    "emp2 = Employee(\"Sarah\", 5000)\n",
    "\n",
    "print(emp1)\n",
    "print(f\"Total number of employees: {emp1.display_count()}\")\n",
    "print(emp2.display_count())"
   ]
  },
  {
   "cell_type": "code",
   "execution_count": null,
   "id": "41ecee37",
   "metadata": {},
   "outputs": [],
   "source": []
  },
  {
   "cell_type": "code",
   "execution_count": null,
   "id": "6ff1529c",
   "metadata": {},
   "outputs": [],
   "source": []
  },
  {
   "cell_type": "code",
   "execution_count": null,
   "id": "6e7a7333",
   "metadata": {},
   "outputs": [],
   "source": []
  },
  {
   "cell_type": "code",
   "execution_count": null,
   "id": "d4b7d4ae",
   "metadata": {},
   "outputs": [],
   "source": []
  },
  {
   "cell_type": "code",
   "execution_count": null,
   "id": "6b21bd73",
   "metadata": {},
   "outputs": [],
   "source": []
  }
 ],
 "metadata": {
  "kernelspec": {
   "display_name": "Python 3 (ipykernel)",
   "language": "python",
   "name": "python3"
  },
  "language_info": {
   "codemirror_mode": {
    "name": "ipython",
    "version": 3
   },
   "file_extension": ".py",
   "mimetype": "text/x-python",
   "name": "python",
   "nbconvert_exporter": "python",
   "pygments_lexer": "ipython3",
   "version": "3.11.5"
  }
 },
 "nbformat": 4,
 "nbformat_minor": 5
}
