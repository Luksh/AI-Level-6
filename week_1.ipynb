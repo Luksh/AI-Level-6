{
 "cells": [
  {
   "cell_type": "code",
   "execution_count": 1,
   "id": "bf30a836-c283-4f8d-90bc-13218429c090",
   "metadata": {},
   "outputs": [
    {
     "data": {
      "text/plain": [
       "0.5714025946899135"
      ]
     },
     "execution_count": 1,
     "metadata": {},
     "output_type": "execute_result"
    }
   ],
   "source": [
    "import random\n",
    "\n",
    "random.seed(10)\n",
    "random.random()"
   ]
  },
  {
   "cell_type": "code",
   "execution_count": 2,
   "id": "0e6ada0a-dbff-45a9-8c2e-4476ee17bf44",
   "metadata": {},
   "outputs": [
    {
     "name": "stdout",
     "output_type": "stream",
     "text": [
      "word:cat\n"
     ]
    }
   ],
   "source": [
    "import re\n",
    "\n",
    "str1 = \"an example word:cat !!\"\n",
    "match = re.search(r\"word:\\w\\w\\w\", str1)\n",
    "\n",
    "if match:\n",
    "    print(match.group())\n",
    "else:\n",
    "    print(\"not found\")"
   ]
  },
  {
   "cell_type": "code",
   "execution_count": 3,
   "id": "1a65e1fd-7081-4c7a-917c-7d0ef6c4d2b7",
   "metadata": {},
   "outputs": [
    {
     "data": {
      "text/plain": [
       "'iii'"
      ]
     },
     "execution_count": 3,
     "metadata": {},
     "output_type": "execute_result"
    }
   ],
   "source": [
    "match = re.search(r\"iii\", \"piiig\")\n",
    "match.group()"
   ]
  },
  {
   "cell_type": "code",
   "execution_count": 4,
   "id": "64eeb76d-5f82-408f-97a5-6a1c7cd7e36e",
   "metadata": {},
   "outputs": [
    {
     "name": "stdout",
     "output_type": "stream",
     "text": [
      "[(1, 4), (2, 5), (3, 6)]\n"
     ]
    }
   ],
   "source": [
    "x = [1, 2, 3]\n",
    "y = [4, 5, 6]\n",
    "\n",
    "zipped = list(zip(x, y))\n",
    "print(zipped)"
   ]
  },
  {
   "cell_type": "code",
   "execution_count": 5,
   "id": "3f5547a2-a7d7-40a5-8f64-e4523a3c6a39",
   "metadata": {},
   "outputs": [
    {
     "data": {
      "text/plain": [
       "((1, 2, 3), (4, 5, 6))"
      ]
     },
     "execution_count": 5,
     "metadata": {},
     "output_type": "execute_result"
    }
   ],
   "source": [
    "x2, y2 = zip(*zipped)\n",
    "x2, y2"
   ]
  },
  {
   "cell_type": "code",
   "execution_count": 6,
   "id": "e4d824aa-f6b8-4fc3-9c77-d5998d2714be",
   "metadata": {},
   "outputs": [
    {
     "name": "stdout",
     "output_type": "stream",
     "text": [
      "Fruits: ('Apple', 'Banana', 'Orange')\n",
      "Quantities: (10, 20, 30)\n"
     ]
    }
   ],
   "source": [
    "a = [(\"Apple\", 10), (\"Banana\", 20), (\"Orange\", 30)]\n",
    "\n",
    "fruits, quantities = zip(*a)\n",
    "\n",
    "print(f\"Fruits: {fruits}\")\n",
    "print(f\"Quantities: {quantities}\")"
   ]
  },
  {
   "cell_type": "code",
   "execution_count": 7,
   "id": "822e06c3-c0fa-4b09-8dae-86762413431e",
   "metadata": {},
   "outputs": [
    {
     "name": "stdout",
     "output_type": "stream",
     "text": [
      "Name: Zara; Salary: 2000\n",
      "Total number of employees: 2\n",
      "2\n"
     ]
    }
   ],
   "source": [
    "class Employee:\n",
    "    emp_count = 0  # class variable\n",
    "\n",
    "    def __init__(self, name, salary):\n",
    "        self.name = name\n",
    "        self.salary = salary\n",
    "        Employee.emp_count += 1\n",
    "\n",
    "    def display_count(self):\n",
    "        return Employee.emp_count\n",
    "\n",
    "    def __str__(self):\n",
    "        return f\"Name: {self.name}; Salary: {self.salary}\"\n",
    "\n",
    "\n",
    "emp1 = Employee(\"Zara\", 2000)\n",
    "emp2 = Employee(\"Sarah\", 5000)\n",
    "\n",
    "print(emp1)\n",
    "print(f\"Total number of employees: {emp1.display_count()}\")\n",
    "print(emp2.display_count())"
   ]
  },
  {
   "cell_type": "code",
   "execution_count": null,
   "id": "ded9af80-f74e-4499-9208-1f71dce5ed57",
   "metadata": {},
   "outputs": [],
   "source": []
  }
 ],
 "metadata": {
  "kernelspec": {
   "display_name": "Python 3 (ipykernel)",
   "language": "python",
   "name": "python3"
  },
  "language_info": {
   "codemirror_mode": {
    "name": "ipython",
    "version": 3
   },
   "file_extension": ".py",
   "mimetype": "text/x-python",
   "name": "python",
   "nbconvert_exporter": "python",
   "pygments_lexer": "ipython3",
   "version": "3.11.11"
  }
 },
 "nbformat": 4,
 "nbformat_minor": 5
}
