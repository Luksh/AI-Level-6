{
 "cells": [
  {
   "cell_type": "code",
   "execution_count": 1,
   "id": "4d19f452-fa6f-48eb-acd6-3a59bcf99ca6",
   "metadata": {},
   "outputs": [],
   "source": [
    "import collections.abc\n",
    "collections.Iterator = collections.abc.Iterator\n",
    "collections.Hashable = collections.abc.Hashable\n",
    "import json\n",
    "from kanren import Relation, facts, run, conde, var, eq"
   ]
  },
  {
   "cell_type": "code",
   "execution_count": 2,
   "id": "031cf953-7797-4945-a585-ff385558b67a",
   "metadata": {},
   "outputs": [],
   "source": [
    "# Check if 'x' is the parent of 'y'\n",
    "# Uses conde, which is like a logical OR.\n",
    "# It returns True if x is either the father or mother of y.\n",
    "def parent(x, y):\n",
    "    return conde([father(x, y)], [mother(x, y)])\n",
    "\n",
    "# Check if 'x' is the grandparent of 'y'\n",
    "# Introduces a temporary variable temp.\n",
    "# It checks if x is a parent of temp and if temp is a parent of y.\n",
    "# If both conditions hold, then x is a grandparent of y.\n",
    "# var() creates a logical variable that can be unified (matched) during queries.\n",
    "def grandparent(x, y):\n",
    "    temp = var()\n",
    "    return conde((parent(x, temp), parent(temp, y)))\n",
    "\n",
    "# Check for sibling relationship between 'a' and 'b'\n",
    "# Uses temp as a common parent.\n",
    "# If both x and y share at least one parent, they are siblings.\n",
    "def sibling(x, y):\n",
    "    temp = var()\n",
    "    return conde((parent(temp, x), parent(temp, y)))\n",
    "\n",
    "# Check if x is y's uncle\n",
    "# Uses temp as x's father.\n",
    "# Then checks if temp is y's grandparent.\n",
    "# If both conditions hold, x is y's uncle.\n",
    "def uncle(x, y):\n",
    "    temp = var()\n",
    "    return conde((father(temp, x), grandparent(temp, y)))\n",
    "\n",
    "# The program declares relationships instead of explicitly computing them."
   ]
  },
  {
   "cell_type": "code",
   "execution_count": 6,
   "id": "cb6c2f75-9c60-42d0-aaeb-cb9cfd78bea5",
   "metadata": {},
   "outputs": [
    {
     "name": "stdout",
     "output_type": "stream",
     "text": [
      "__name__ :  __main__\n"
     ]
    }
   ],
   "source": [
    "print(\"__name__ : \", __name__)\n",
    "# __name__ is a special Python variable that holds the name of the module.\n",
    "# If the script is run directly (not imported as a module), __name__ will be \"__main__\", and the code inside if __name__ == '__main__': will execute.\n",
    "# Relation() is a class from the kanren library that represents logical relations.\n",
    "# Two relations are created: father and mother, which will store father-child and mother-child relationships.\n",
    "if __name__ == '__main__': \n",
    "    father = Relation() # creating an instance of Relation (instantiating)\n",
    "    mother = Relation()\n",
    "    \n",
    "    with open('relationships.json', 'r') as f:\n",
    "        json_str = f.read() \n",
    "        d = json.loads(json_str)\n",
    "        # This opens a file called relationships.json, reads its contents, and loads it as a Python dictionary using json.loads().\n",
    "        \n",
    "    for item in d['father']:\n",
    "        father_name = list(item.keys())[0]\n",
    "        child_name = list(item.values())[0]\n",
    "        facts(father, (father_name, child_name))\n",
    "        # This loop processes the \"father\" section of the JSON.\n",
    "        # item.keys()[0] extracts the father's name, and item.values()[0] extracts the child's name.\n",
    "        # facts(father, (father_name, child_name)) stores this relationship in the kanren logic database.\n",
    "      \n",
    "    for item in d['mother']:\n",
    "        mother_name = list(item.keys())[0]\n",
    "        child_name = list(item.values())[0]\n",
    "        facts(mother, (mother_name, child_name))\n",
    "\n",
    "    x = var()\n",
    "    # var() is a logic variable used in kanren for queries.\n",
    "    # Tt can be used to find all children of a specific parent, or vice versa."
   ]
  },
  {
   "cell_type": "code",
   "execution_count": 8,
   "id": "2a4f34dc-4eff-46ba-b84a-2fed066948d8",
   "metadata": {},
   "outputs": [
    {
     "name": "stdout",
     "output_type": "stream",
     "text": [
      "{\n",
      "      \"father\": \n",
      "      [\n",
      "            {\"John\": \"William\"},\n",
      "            {\"John\": \"David\"},\n",
      "            {\"John\": \"Adam\"},\n",
      "            {\"William\": \"Chris\"},\n",
      "            {\"William\": \"Stephanie\"},\n",
      "            {\"David\": \"Wayne\"},\n",
      "            {\"David\": \"Tiffany\"},\n",
      "            {\"David\": \"Julie\"},\n",
      "            {\"David\": \"Neil\"},\n",
      "            {\"David\": \"Peter\"},\n",
      "            {\"Adam\": \"Sophia\"}\n",
      "      ],\n",
      "      \"mother\": \n",
      "      [\n",
      "            {\"Megan\": \"William\"},\n",
      "            {\"Megan\": \"David\"},\n",
      "            {\"Megan\": \"Adam\"},\n",
      "            {\"Emma\": \"Stephanie\"},\n",
      "            {\"Emma\": \"Chris\"},\n",
      "            {\"Olivia\": \"Tiffany\"},\n",
      "            {\"Olivia\": \"Julie\"},\n",
      "            {\"Olivia\": \"Neil\"},\n",
      "            {\"Olivia\": \"Peter\"},\n",
      "            {\"Lily\": \"Sophia\"}\n",
      "      ]\n",
      "}\n",
      "\n",
      "<class 'str'>\n",
      "('John', 'William')\n",
      "John\n",
      "William\n",
      "dict_keys(['John'])\n",
      "('John', 'David')\n",
      "John\n",
      "David\n",
      "dict_keys(['John'])\n",
      "('John', 'Adam')\n",
      "John\n",
      "Adam\n",
      "dict_keys(['John'])\n",
      "('William', 'Chris')\n",
      "William\n",
      "Chris\n",
      "dict_keys(['William'])\n",
      "('William', 'Stephanie')\n",
      "William\n",
      "Stephanie\n",
      "dict_keys(['William'])\n",
      "('David', 'Wayne')\n",
      "David\n",
      "Wayne\n",
      "dict_keys(['David'])\n",
      "('David', 'Tiffany')\n",
      "David\n",
      "Tiffany\n",
      "dict_keys(['David'])\n",
      "('David', 'Julie')\n",
      "David\n",
      "Julie\n",
      "dict_keys(['David'])\n",
      "('David', 'Neil')\n",
      "David\n",
      "Neil\n",
      "dict_keys(['David'])\n",
      "('David', 'Peter')\n",
      "David\n",
      "Peter\n",
      "dict_keys(['David'])\n",
      "('Adam', 'Sophia')\n",
      "Adam\n",
      "Sophia\n",
      "dict_keys(['Adam'])\n"
     ]
    }
   ],
   "source": [
    "print(json_str)\n",
    "print(type(json_str))\n",
    "type(d)\n",
    "d\n",
    "d['mother']\n",
    "\n",
    "for item in d[\"father\"]:\n",
    "    father_name = list(item.keys())[0]\n",
    "    child_name = list(item.values())[0]\n",
    "    print((father_name, child_name))\n",
    "    facts(father, (father_name, child_name)) # stores the father-child relationship in the logic database\n",
    "    # father is a Relation() object, and facts() tells kanren that \"father_name is the father of child_name\".\n",
    "    # item is a dictionary, e.g., {\"John\": \"David\"}.\n",
    "    # list(item.keys())[0] → Gets the first key (\"John\", the father's name).\n",
    "    # list(item.values())[0] → Gets the first value (\"William\", the child's name).\n",
    "    \n",
    "    print(list(item.keys())[0])\n",
    "    print(list(item.values())[0])\n",
    "    print(item.keys())"
   ]
  },
  {
   "cell_type": "code",
   "execution_count": 9,
   "id": "2fc8e010-e7af-4f4b-baee-6efd6043f333",
   "metadata": {},
   "outputs": [
    {
     "data": {
      "text/plain": [
       "[{'John': 'William'},\n",
       " {'John': 'David'},\n",
       " {'John': 'Adam'},\n",
       " {'William': 'Chris'},\n",
       " {'William': 'Stephanie'},\n",
       " {'David': 'Wayne'},\n",
       " {'David': 'Tiffany'},\n",
       " {'David': 'Julie'},\n",
       " {'David': 'Neil'},\n",
       " {'David': 'Peter'},\n",
       " {'Adam': 'Sophia'}]"
      ]
     },
     "execution_count": 9,
     "metadata": {},
     "output_type": "execute_result"
    }
   ],
   "source": [
    "d[\"father\"]"
   ]
  },
  {
   "cell_type": "code",
   "execution_count": 10,
   "id": "67d1b1c7-c75f-4e5e-a210-f3669adb0304",
   "metadata": {},
   "outputs": [
    {
     "data": {
      "text/plain": [
       "('Megan',)"
      ]
     },
     "execution_count": 10,
     "metadata": {},
     "output_type": "execute_result"
    }
   ],
   "source": [
    "# who is William's mother?\n",
    "run(0, x, mother(x, 'William'))\n",
    "# run(n, x, query) is a function from kanren that executes a logical query.\n",
    "# n: The number of results to return. 0 means return all possible answers.\n",
    "# x: A logic variable (var()) that will hold the result.\n",
    "# query: A logical condition to match against stored facts. (mother(x, 'William'))\n",
    "# This checks if x is the mother of William.\n",
    "# Since mother is a Relation() object with stored mother-child pairs, this query tries to match 'William' as a child and find the corresponding mother.\n",
    "\n",
    "# It searches the stored mother relationships.\n",
    "# Finds the fact: mother(\"Megan\", \"William\")\n",
    "# If multiple mothers are found, it returns all matches."
   ]
  },
  {
   "cell_type": "code",
   "execution_count": 12,
   "id": "ba0acda7-1013-45ac-83e1-fcf326863876",
   "metadata": {},
   "outputs": [
    {
     "data": {
      "text/plain": [
       "('Neil', 'Peter', 'Tiffany', 'Julie')"
      ]
     },
     "execution_count": 12,
     "metadata": {},
     "output_type": "execute_result"
    }
   ],
   "source": [
    "# Who are Olivia's children?\n",
    "run(0, x, mother('Olivia', x))"
   ]
  },
  {
   "cell_type": "code",
   "execution_count": 13,
   "id": "57b9df32-9d6c-499b-a837-071577c4ac57",
   "metadata": {},
   "outputs": [
    {
     "data": {
      "text/plain": [
       "('William', 'Adam', 'David')"
      ]
     },
     "execution_count": 13,
     "metadata": {},
     "output_type": "execute_result"
    }
   ],
   "source": [
    "# Who are the children of John?\n",
    "run(0, x, father(\"John\", x))"
   ]
  },
  {
   "cell_type": "code",
   "execution_count": 14,
   "id": "9440bad9-708e-45b4-b912-c7cc9017a3df",
   "metadata": {},
   "outputs": [
    {
     "data": {
      "text/plain": [
       "[{'Megan': 'William'},\n",
       " {'Megan': 'David'},\n",
       " {'Megan': 'Adam'},\n",
       " {'Emma': 'Stephanie'},\n",
       " {'Emma': 'Chris'},\n",
       " {'Olivia': 'Tiffany'},\n",
       " {'Olivia': 'Julie'},\n",
       " {'Olivia': 'Neil'},\n",
       " {'Olivia': 'Peter'},\n",
       " {'Lily': 'Sophia'}]"
      ]
     },
     "execution_count": 14,
     "metadata": {},
     "output_type": "execute_result"
    }
   ],
   "source": [
    "d[\"mother\"]"
   ]
  },
  {
   "cell_type": "code",
   "execution_count": 15,
   "id": "4b61bd39-c86b-4314-aba6-ed1d1fc42271",
   "metadata": {},
   "outputs": [
    {
     "name": "stdout",
     "output_type": "stream",
     "text": [
      "\n",
      "List of John's children:\n",
      "William\n",
      "Adam\n",
      "David\n"
     ]
    }
   ],
   "source": [
    "# John's children\n",
    "name = \"John\"\n",
    "output = run(0, x, father(name, x))\n",
    "output\n",
    "print(f\"\\nList of {name}'s children:\")\n",
    "for item in output:\n",
    "    print(item)"
   ]
  },
  {
   "cell_type": "code",
   "execution_count": 16,
   "id": "affba975-ca1d-42af-896b-08b7e02f39b5",
   "metadata": {},
   "outputs": [
    {
     "name": "stdout",
     "output_type": "stream",
     "text": [
      "\n",
      " William's mother:\n",
      " ('Megan',)\n"
     ]
    }
   ],
   "source": [
    "# William's mother\n",
    "name = \"William\"\n",
    "output = run(0, x, mother(x, name))\n",
    "print(f\"\\n {name}'s mother:\\n {output}\")"
   ]
  },
  {
   "cell_type": "code",
   "execution_count": 17,
   "id": "21ef5cba-1a59-43d2-b6cb-e04c264a9912",
   "metadata": {},
   "outputs": [
    {
     "data": {
      "text/plain": [
       "('John', 'Megan')"
      ]
     },
     "execution_count": 17,
     "metadata": {},
     "output_type": "execute_result"
    }
   ],
   "source": [
    "# Adam's parents\n",
    "name = \"Adam\"\n",
    "output = run(0, x, parent(x, name))\n",
    "output"
   ]
  },
  {
   "cell_type": "code",
   "execution_count": 18,
   "id": "61ca479c-4fe0-4ad5-8ef5-2da8a531e348",
   "metadata": {},
   "outputs": [
    {
     "data": {
      "text/plain": [
       "('John', 'Megan')"
      ]
     },
     "execution_count": 18,
     "metadata": {},
     "output_type": "execute_result"
    }
   ],
   "source": [
    "# Wayne's grandparents\n",
    "name = \"Wayne\"\n",
    "output = run(0, x, grandparent(x, name))\n",
    "output"
   ]
  },
  {
   "cell_type": "code",
   "execution_count": 19,
   "id": "2460f8a1-4830-4c20-a2cb-a8d13ed8109e",
   "metadata": {},
   "outputs": [
    {
     "data": {
      "text/plain": [
       "('Chris', 'Sophia', 'Julie', 'Stephanie', 'Neil', 'Tiffany', 'Wayne', 'Peter')"
      ]
     },
     "execution_count": 19,
     "metadata": {},
     "output_type": "execute_result"
    }
   ],
   "source": [
    "# Megan's grandchildren\n",
    "name = \"Megan\"\n",
    "output = run(0, x, grandparent(name, x))\n",
    "output"
   ]
  },
  {
   "cell_type": "code",
   "execution_count": 20,
   "id": "416af83c-1db0-4c1f-a60d-543ccfe21c04",
   "metadata": {},
   "outputs": [
    {
     "data": {
      "text/plain": [
       "['William', 'Adam']"
      ]
     },
     "execution_count": 20,
     "metadata": {},
     "output_type": "execute_result"
    }
   ],
   "source": [
    "# David's siblings\n",
    "name = \"David\"\n",
    "output = run(0, x, sibling(x, name))\n",
    "output\n",
    "[sib for sib in output if sib != name]\n",
    "# List comprehension filters out David himself.\n",
    "# Since the query technically returns all siblings, including David if relationships are bidirectional, this ensures he is excluded."
   ]
  },
  {
   "cell_type": "code",
   "execution_count": 21,
   "id": "df33c8cb-4bc0-4f46-a5d1-de94c339de5c",
   "metadata": {},
   "outputs": [
    {
     "name": "stdout",
     "output_type": "stream",
     "text": [
      "David\n"
     ]
    },
    {
     "data": {
      "text/plain": [
       "['William', 'Adam']"
      ]
     },
     "execution_count": 21,
     "metadata": {},
     "output_type": "execute_result"
    }
   ],
   "source": [
    "# Tiffany's uncles\n",
    "name = \"Tiffany\"\n",
    "output = run(0, x, uncle(x, name))\n",
    "father_name = run(1, x, father(x, name))\n",
    "print(father_name[0])\n",
    "[n for n in output if n!=father_name[0]]\n",
    "# List comprehension removes David (Tiffany’s father) from output.\n",
    "# Ensures that only actual uncles (father's brothers) are listed."
   ]
  },
  {
   "cell_type": "code",
   "execution_count": null,
   "id": "754e66c8-b04a-4f2a-b883-7afb932b61bd",
   "metadata": {},
   "outputs": [],
   "source": []
  }
 ],
 "metadata": {
  "kernelspec": {
   "display_name": "Python 3 (ipykernel)",
   "language": "python",
   "name": "python3"
  },
  "language_info": {
   "codemirror_mode": {
    "name": "ipython",
    "version": 3
   },
   "file_extension": ".py",
   "mimetype": "text/x-python",
   "name": "python",
   "nbconvert_exporter": "python",
   "pygments_lexer": "ipython3",
   "version": "3.11.11"
  }
 },
 "nbformat": 4,
 "nbformat_minor": 5
}
